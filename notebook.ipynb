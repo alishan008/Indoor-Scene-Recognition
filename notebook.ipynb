{
 "cells": [
  {
   "cell_type": "markdown",
   "metadata": {},
   "source": [
    "Download the data and unzip the contents"
   ]
  },
  {
   "cell_type": "code",
   "execution_count": null,
   "metadata": {
    "colab": {
     "base_uri": "https://localhost:8080/"
    },
    "id": "xuFNC1rT8vAv",
    "outputId": "c03cf1b1-599b-4be5-ee04-a23fc89d1724"
   },
   "outputs": [
    {
     "name": "stdout",
     "output_type": "stream",
     "text": [
      "--2021-11-28 17:06:18--  http://groups.csail.mit.edu/vision/LabelMe/NewImages/indoorCVPR_09.tar\n",
      "Resolving groups.csail.mit.edu (groups.csail.mit.edu)... 128.30.2.44\n",
      "Connecting to groups.csail.mit.edu (groups.csail.mit.edu)|128.30.2.44|:80... connected.\n",
      "HTTP request sent, awaiting response... 200 OK\n",
      "Length: 2592010240 (2.4G) [application/x-tar]\n",
      "Saving to: ‘indoorCVPR_09.tar’\n",
      "\n",
      "indoorCVPR_09.tar     1%[                    ]  35.28M  8.15MB/s    eta 5m 39s ^C\n"
     ]
    }
   ],
   "source": [
    "!wget http://groups.csail.mit.edu/vision/LabelMe/NewImages/indoorCVPR_09.tar"
   ]
  },
  {
   "cell_type": "code",
   "execution_count": null,
   "metadata": {
    "id": "WMx-sOO184Tj"
   },
   "outputs": [],
   "source": [
    "!tar -xvf \"/content/indoorCVPR_09.tar\" -C \"/content/\""
   ]
  },
  {
   "cell_type": "code",
   "execution_count": 1,
   "metadata": {
    "colab": {
     "base_uri": "https://localhost:8080/"
    },
    "id": "QbHov_wycUqU",
    "outputId": "f04dcdd8-11d6-40ba-b184-b237c8c5d23e"
   },
   "outputs": [
    {
     "name": "stdout",
     "output_type": "stream",
     "text": [
      "Mounted at /content/drive\n"
     ]
    }
   ],
   "source": [
    "from google.colab import drive\n",
    "drive.mount('/content/drive')"
   ]
  },
  {
   "cell_type": "markdown",
   "metadata": {},
   "source": [
    "Move the folder from Colab local disk to a Google Drive folder."
   ]
  },
  {
   "cell_type": "code",
   "execution_count": null,
   "metadata": {
    "id": "kyPgh6KWAQyU"
   },
   "outputs": [],
   "source": [
    "!cp -r /content/Images /content/drive/MyDrive/Datasets/limited/"
   ]
  },
  {
   "cell_type": "markdown",
   "metadata": {},
   "source": [
    "Import all the necessary libraries"
   ]
  },
  {
   "cell_type": "code",
   "execution_count": null,
   "metadata": {
    "id": "YPeeZhfSwxK2"
   },
   "outputs": [],
   "source": [
    "import tensorflow as tf\n",
    "from tensorflow.keras.layers import Dense, Input, Dropout, Flatten, Conv2D\n",
    "from tensorflow.keras.layers import BatchNormalization, Activation, MaxPooling2D\n",
    "from tensorflow.keras.models import Sequential\n",
    "from tensorflow.keras.optimizers import Nadam\n",
    "from tensorflow.keras.regularizers import L2\n",
    "from tensorflow.keras.initializers import HeNormal\n",
    "from tensorflow import keras\n",
    "from keras.layers import PReLU\n",
    "from tensorflow.keras.preprocessing.image import ImageDataGenerator, load_img, img_to_array\n",
    "from tensorflow.keras.callbacks import ModelCheckpoint, ReduceLROnPlateau, EarlyStopping, LearningRateScheduler\n",
    "import numpy as np\n",
    "import random\n",
    "import os"
   ]
  },
  {
   "cell_type": "markdown",
   "metadata": {},
   "source": [
    "We get a count of the number of images for each label"
   ]
  },
  {
   "cell_type": "code",
   "execution_count": null,
   "metadata": {
    "colab": {
     "base_uri": "https://localhost:8080/"
    },
    "id": "lc8Hzw_lA0dB",
    "outputId": "d03ddcb2-ce56-452d-9123-a9fcf49b1057"
   },
   "outputs": [
    {
     "name": "stdout",
     "output_type": "stream",
     "text": [
      "608 airport_inside images\n",
      "140 artstudio images\n",
      "176 auditorium images\n",
      "405 bakery images\n",
      "604 bar images\n",
      "197 bathroom images\n",
      "662 bedroom images\n",
      "380 bookstore images\n",
      "213 bowling images\n",
      "111 buffet images\n",
      "515 casino images\n",
      "112 children_room images\n",
      "180 church_inside images\n",
      "113 classroom images\n",
      "120 cloister images\n",
      "135 closet images\n",
      "106 clothingstore images\n",
      "114 computerroom images\n",
      "103 concert_hall images\n",
      "346 corridor images\n",
      "258 deli images\n",
      "131 dentaloffice images\n",
      "274 dining_room images\n",
      "101 elevator images\n",
      "116 fastfood_restaurant images\n",
      "103 florist images\n",
      "127 gameroom images\n",
      "103 garage images\n",
      "101 greenhouse images\n",
      "213 grocerystore images\n",
      "231 gym images\n",
      "239 hairsalon images\n",
      "101 hospitalroom images\n",
      "102 inside_bus images\n",
      "457 inside_subway images\n",
      "157 jewelleryshop images\n",
      "127 kindergarden images\n",
      "734 kitchen images\n",
      "125 laboratorywet images\n",
      "276 laundromat images\n",
      "107 library images\n",
      "706 livingroom images\n",
      "101 lobby images\n",
      "249 locker_room images\n",
      "176 mall images\n",
      "233 meeting_room images\n",
      "175 movietheater images\n",
      "168 museum images\n",
      "144 nursery images\n",
      "109 office images\n",
      "135 operating_room images\n",
      "384 pantry images\n",
      "174 poolinside images\n",
      "103 prisoncell images\n",
      "513 restaurant images\n",
      "107 restaurant_kitchen images\n",
      "116 shoeshop images\n",
      "155 stairscase images\n",
      "108 studiomusic images\n",
      "539 subway images\n",
      "347 toystore images\n",
      "153 trainstation images\n",
      "166 tv_studio images\n",
      "110 videostore images\n",
      "151 waitingroom images\n",
      "506 warehouse images\n",
      "269 winecellar images\n",
      "67\n"
     ]
    }
   ],
   "source": [
    "path = \"/content/drive/MyDrive/Datasets/limited/Images/\"\n",
    "\n",
    "for label in os.listdir(path):\n",
    "    print(str(len(os.listdir(path + label))) + \" \" + label + \" images\")\n",
    "\n",
    "print(str(len(os.listdir(path))))"
   ]
  },
  {
   "cell_type": "markdown",
   "metadata": {},
   "source": [
    "We write a Data Augmentation object to be applied to images for an increased dataset"
   ]
  },
  {
   "cell_type": "code",
   "execution_count": null,
   "metadata": {
    "id": "mSMYbBx_BCwb"
   },
   "outputs": [],
   "source": [
    "newdata = ImageDataGenerator(rotation_range=45,\n",
    "                             zoom_range = 0.2, \n",
    "                             shear_range = 0.3,\n",
    "                             width_shift_range=0.2,\n",
    "                             height_shift_range=0.2,\n",
    "                             fill_mode='reflect',\n",
    "                             horizontal_flip=True)\n"
   ]
  },
  {
   "cell_type": "markdown",
   "metadata": {},
   "source": [
    "We apply data augmentation to the images and increase the size of our dataset "
   ]
  },
  {
   "cell_type": "code",
   "execution_count": null,
   "metadata": {
    "colab": {
     "base_uri": "https://localhost:8080/"
    },
    "id": "MD6HAtLYBNrF",
    "outputId": "6e157b9b-d1bc-4c8f-ffef-f10b8f3461cd"
   },
   "outputs": [
    {
     "name": "stdout",
     "output_type": "stream",
     "text": [
      "bookstore done with new count of 1519. 1\n",
      "bowling done with new count of 1343. 2\n",
      "buffet done with new count of 1241. 3\n",
      "casino done with new count of 1654. 4\n",
      "children_room done with new count of 1256. 5\n",
      "church_inside done with new count of 1324. 6\n",
      "classroom done with new count of 1247. 7\n",
      "cloister done with new count of 1243. 8\n",
      "closet done with new count of 1265. 9\n",
      "clothingstore done with new count of 1230. 10\n",
      "computerroom done with new count of 1243. 11\n",
      "concert_hall done with new count of 1245. 12\n",
      "corridor done with new count of 1477. 13\n",
      "deli done with new count of 1400. 14\n",
      "dentaloffice done with new count of 1263. 15\n",
      "dining_room done with new count of 1418. 16\n",
      "elevator done with new count of 1247. 17\n",
      "fastfood_restaurant done with new count of 1260. 18\n",
      "florist done with new count of 1237. 19\n",
      "gameroom done with new count of 1262. 20\n",
      "garage done with new count of 1248. 21\n",
      "greenhouse done with new count of 1235. 22\n",
      "grocerystore done with new count of 1359. 23\n",
      "gym done with new count of 1362. 24\n",
      "hairsalon done with new count of 1372. 25\n",
      "hospitalroom done with new count of 1233. 26\n",
      "inside_bus done with new count of 1243. 27\n",
      "inside_subway done with new count of 1595. 28\n",
      "jewelleryshop done with new count of 1286. 29\n",
      "kindergarden done with new count of 1264. 30\n",
      "kitchen done with new count of 1865. 31\n",
      "laboratorywet done with new count of 1263. 32\n",
      "laundromat done with new count of 1412. 33\n",
      "library done with new count of 1245. 34\n",
      "livingroom done with new count of 1832. 35\n",
      "lobby done with new count of 1236. 36\n",
      "locker_room done with new count of 1384. 37\n",
      "mall done with new count of 1320. 38\n",
      "meeting_room done with new count of 1361. 39\n",
      "movietheater done with new count of 1307. 40\n",
      "museum done with new count of 1305. 41\n",
      "nursery done with new count of 1268. 42\n",
      "office done with new count of 1223. 43\n",
      "operating_room done with new count of 1287. 44\n",
      "pantry done with new count of 1523. 45\n",
      "poolinside done with new count of 1302. 46\n",
      "prisoncell done with new count of 1247. 47\n",
      "restaurant done with new count of 1657. 48\n",
      "restaurant_kitchen done with new count of 1235. 49\n",
      "shoeshop done with new count of 1258. 50\n",
      "stairscase done with new count of 1289. 51\n",
      "studiomusic done with new count of 1228. 52\n",
      "subway done with new count of 1680. 53\n",
      "toystore done with new count of 1480. 54\n",
      "trainstation done with new count of 1279. 55\n",
      "tv_studio done with new count of 1308. 56\n",
      "videostore done with new count of 1247. 57\n",
      "waitingroom done with new count of 1275. 58\n",
      "warehouse done with new count of 1639. 59\n",
      "winecellar done with new count of 1407. 60\n"
     ]
    }
   ],
   "source": [
    "count = 0\n",
    "for folder in table:\n",
    "    file_list = os.listdir(path+folder)\n",
    "    i = len(os.listdir(path+folder))\n",
    "  \n",
    "    for _ in range(i,i+301):\n",
    "        if len(file_list) == 0:\n",
    "            break\n",
    "        else:\n",
    "            file = random.choice(file_list)\n",
    "            img = load_img(path+folder+\"/\"+file)  \n",
    "            x = img_to_array(img) \n",
    "            x = x.reshape((1, ) + x.shape)  #Reshape the input image\n",
    "            a = 0\n",
    "            for batch in newdata.flow(x, batch_size = 1, save_to_dir=path+folder, save_prefix ='aug', save_format ='jpg'):\n",
    "                a += 1\n",
    "                if a == 4:\n",
    "                    break\n",
    "    new_i = len(os.listdir(path+folder))\n",
    "    count += 1\n",
    "    print(f'{folder} done with new count of {new_i}. {count}')"
   ]
  },
  {
   "cell_type": "markdown",
   "metadata": {},
   "source": [
    "Now we get the new count of images for each label after augmentation"
   ]
  },
  {
   "cell_type": "code",
   "execution_count": 5,
   "metadata": {
    "colab": {
     "base_uri": "https://localhost:8080/"
    },
    "id": "RZLhFaj7RT1m",
    "outputId": "dffd1d5a-0c43-4416-8aab-12533ccd1ee0"
   },
   "outputs": [
    {
     "name": "stdout",
     "output_type": "stream",
     "text": [
      "1732 airport_inside images\n",
      "1263 artstudio images\n",
      "1322 auditorium images\n",
      "1541 bakery images\n",
      "1748 bar images\n",
      "1321 bathroom images\n",
      "1805 bedroom images\n",
      "1277 closet images\n",
      "1247 clothingstore images\n",
      "1253 computerroom images\n",
      "1246 concert_hall images\n",
      "1475 corridor images\n",
      "1406 deli images\n",
      "1260 dentaloffice images\n",
      "1408 dining_room images\n",
      "1242 elevator images\n",
      "1255 fastfood_restaurant images\n",
      "1244 florist images\n",
      "1269 gameroom images\n",
      "1236 garage images\n",
      "1233 greenhouse images\n",
      "1347 grocerystore images\n",
      "1369 gym images\n",
      "1385 hairsalon images\n",
      "1245 hospitalroom images\n",
      "1244 inside_bus images\n",
      "1584 inside_subway images\n",
      "1276 jewelleryshop images\n",
      "1252 kindergarden images\n",
      "1867 kitchen images\n",
      "1252 laboratorywet images\n",
      "1423 laundromat images\n",
      "1238 library images\n",
      "1853 livingroom images\n",
      "1236 lobby images\n",
      "1376 locker_room images\n",
      "1318 mall images\n",
      "1384 meeting_room images\n",
      "1295 movietheater images\n",
      "1298 museum images\n",
      "1267 nursery images\n",
      "1245 office images\n",
      "1269 operating_room images\n",
      "1526 pantry images\n",
      "1294 poolinside images\n",
      "1251 prisoncell images\n",
      "1638 restaurant images\n",
      "1232 restaurant_kitchen images\n",
      "1266 shoeshop images\n",
      "1296 stairscase images\n",
      "1245 studiomusic images\n",
      "1672 subway images\n",
      "1483 toystore images\n",
      "1299 trainstation images\n",
      "1294 tv_studio images\n",
      "1235 videostore images\n",
      "1284 waitingroom images\n",
      "1641 warehouse images\n",
      "1414 winecellar images\n",
      "1519 bookstore images\n",
      "1343 bowling images\n",
      "1241 buffet images\n",
      "1654 casino images\n",
      "1256 children_room images\n",
      "1324 church_inside images\n",
      "1247 classroom images\n",
      "1243 cloister images\n"
     ]
    }
   ],
   "source": [
    "for folder in os.listdir(path):\n",
    "    print(str(len(os.listdir(path+folder))) + \" \" + folder + \" images\")"
   ]
  },
  {
   "cell_type": "markdown",
   "metadata": {},
   "source": [
    "We've successfully increased the number of images from 15,000 to now over 81,000 which is more than a 5x increase and each label has more than a thousand images to it. We now use the ImageDataGenerator to convert those images into tensors."
   ]
  },
  {
   "cell_type": "code",
   "execution_count": null,
   "metadata": {
    "colab": {
     "base_uri": "https://localhost:8080/"
    },
    "id": "MfWw15L3rTSo",
    "outputId": "9e421c99-f3c9-43b7-98ca-9f9a44612f9a"
   },
   "outputs": [
    {
     "name": "stdout",
     "output_type": "stream",
     "text": [
      "Found 64226 images belonging to 67 classes.\n",
      "Found 27477 images belonging to 67 classes.\n"
     ]
    }
   ],
   "source": [
    "i = 128\n",
    "batch_size = 256\n",
    "\n",
    "train_datagen = ImageDataGenerator(rescale=1./255,\n",
    "                                   #brightness_range=[0.2,0.9], \n",
    "                                   horizontal_flip=True,\n",
    "                                   #zoom_range=0.2,\n",
    "                                   #shear_range=0.3,\n",
    "                                   validation_split=0.3)\n",
    "\n",
    "validation_datagen = ImageDataGenerator(rescale=1./255, validation_split=0.3)\n",
    "\n",
    "train_gen = train_datagen.flow_from_directory(path1,\n",
    "                                              seed=91,\n",
    "                                              target_size=(i,i),\n",
    "                                              color_mode=\"rgb\",\n",
    "                                              batch_size=batch_size,\n",
    "                                              class_mode='categorical',\n",
    "                                              subset='training',\n",
    "                                              shuffle=True)\n",
    "\n",
    "val_gen = validation_datagen.flow_from_directory(path1,\n",
    "                                                 seed=91,\n",
    "                                                 target_size=(i,i),\n",
    "                                                 color_mode=\"rgb\",\n",
    "                                                 batch_size=batch_size,\n",
    "                                                 class_mode='categorical',\n",
    "                                                 subset='validation',\n",
    "                                                 shuffle=False)"
   ]
  },
  {
   "cell_type": "markdown",
   "metadata": {},
   "source": [
    "We make our model with 5 Convolutional layers and 4 fully connected layers. We also make use of Dropout, regularizer and initializer for regularization purposes."
   ]
  },
  {
   "cell_type": "code",
   "execution_count": null,
   "metadata": {
    "colab": {
     "base_uri": "https://localhost:8080/"
    },
    "id": "ICqIhtNI0hgr",
    "outputId": "b47236e5-4963-4576-94ca-3936560fdee8"
   },
   "outputs": [
    {
     "name": "stdout",
     "output_type": "stream",
     "text": [
      "Model: \"sequential_1\"\n",
      "_________________________________________________________________\n",
      " Layer (type)                Output Shape              Param #   \n",
      "=================================================================\n",
      " conv2d_5 (Conv2D)           (None, 126, 126, 128)     3584      \n",
      "                                                                 \n",
      " batch_normalization_9 (Batc  (None, 126, 126, 128)    512       \n",
      " hNormalization)                                                 \n",
      "                                                                 \n",
      " activation_5 (Activation)   (None, 126, 126, 128)     0         \n",
      "                                                                 \n",
      " max_pooling2d_5 (MaxPooling  (None, 63, 63, 128)      0         \n",
      " 2D)                                                             \n",
      "                                                                 \n",
      " dropout_9 (Dropout)         (None, 63, 63, 128)       0         \n",
      "                                                                 \n",
      " conv2d_6 (Conv2D)           (None, 61, 61, 128)       147584    \n",
      "                                                                 \n",
      " batch_normalization_10 (Bat  (None, 61, 61, 128)      512       \n",
      " chNormalization)                                                \n",
      "                                                                 \n",
      " activation_6 (Activation)   (None, 61, 61, 128)       0         \n",
      "                                                                 \n",
      " max_pooling2d_6 (MaxPooling  (None, 30, 30, 128)      0         \n",
      " 2D)                                                             \n",
      "                                                                 \n",
      " dropout_10 (Dropout)        (None, 30, 30, 128)       0         \n",
      "                                                                 \n",
      " conv2d_7 (Conv2D)           (None, 28, 28, 224)       258272    \n",
      "                                                                 \n",
      " batch_normalization_11 (Bat  (None, 28, 28, 224)      896       \n",
      " chNormalization)                                                \n",
      "                                                                 \n",
      " activation_7 (Activation)   (None, 28, 28, 224)       0         \n",
      "                                                                 \n",
      " max_pooling2d_7 (MaxPooling  (None, 14, 14, 224)      0         \n",
      " 2D)                                                             \n",
      "                                                                 \n",
      " dropout_11 (Dropout)        (None, 14, 14, 224)       0         \n",
      "                                                                 \n",
      " conv2d_8 (Conv2D)           (None, 12, 12, 416)       839072    \n",
      "                                                                 \n",
      " batch_normalization_12 (Bat  (None, 12, 12, 416)      1664      \n",
      " chNormalization)                                                \n",
      "                                                                 \n",
      " activation_8 (Activation)   (None, 12, 12, 416)       0         \n",
      "                                                                 \n",
      " max_pooling2d_8 (MaxPooling  (None, 6, 6, 416)        0         \n",
      " 2D)                                                             \n",
      "                                                                 \n",
      " dropout_12 (Dropout)        (None, 6, 6, 416)         0         \n",
      "                                                                 \n",
      " conv2d_9 (Conv2D)           (None, 4, 4, 512)         1917440   \n",
      "                                                                 \n",
      " batch_normalization_13 (Bat  (None, 4, 4, 512)        2048      \n",
      " chNormalization)                                                \n",
      "                                                                 \n",
      " activation_9 (Activation)   (None, 4, 4, 512)         0         \n",
      "                                                                 \n",
      " max_pooling2d_9 (MaxPooling  (None, 2, 2, 512)        0         \n",
      " 2D)                                                             \n",
      "                                                                 \n",
      " dropout_13 (Dropout)        (None, 2, 2, 512)         0         \n",
      "                                                                 \n",
      " flatten_1 (Flatten)         (None, 2048)              0         \n",
      "                                                                 \n",
      " dense_5 (Dense)             (None, 320)               655680    \n",
      "                                                                 \n",
      " batch_normalization_14 (Bat  (None, 320)              1280      \n",
      " chNormalization)                                                \n",
      "                                                                 \n",
      " p_re_lu_4 (PReLU)           (None, 320)               320       \n",
      "                                                                 \n",
      " dropout_14 (Dropout)        (None, 320)               0         \n",
      "                                                                 \n",
      " dense_6 (Dense)             (None, 192)               61632     \n",
      "                                                                 \n",
      " batch_normalization_15 (Bat  (None, 192)              768       \n",
      " chNormalization)                                                \n",
      "                                                                 \n",
      " p_re_lu_5 (PReLU)           (None, 192)               192       \n",
      "                                                                 \n",
      " dropout_15 (Dropout)        (None, 192)               0         \n",
      "                                                                 \n",
      " dense_7 (Dense)             (None, 160)               30880     \n",
      "                                                                 \n",
      " batch_normalization_16 (Bat  (None, 160)              640       \n",
      " chNormalization)                                                \n",
      "                                                                 \n",
      " p_re_lu_6 (PReLU)           (None, 160)               160       \n",
      "                                                                 \n",
      " dropout_16 (Dropout)        (None, 160)               0         \n",
      "                                                                 \n",
      " dense_8 (Dense)             (None, 96)                15456     \n",
      "                                                                 \n",
      " batch_normalization_17 (Bat  (None, 96)               384       \n",
      " chNormalization)                                                \n",
      "                                                                 \n",
      " p_re_lu_7 (PReLU)           (None, 96)                96        \n",
      "                                                                 \n",
      " dropout_17 (Dropout)        (None, 96)                0         \n",
      "                                                                 \n",
      " dense_9 (Dense)             (None, 67)                6499      \n",
      "                                                                 \n",
      "=================================================================\n",
      "Total params: 3,945,571\n",
      "Trainable params: 3,941,219\n",
      "Non-trainable params: 4,352\n",
      "_________________________________________________________________\n"
     ]
    }
   ],
   "source": [
    "tf.random.set_seed(42)\n",
    "model = Sequential()\n",
    "\n",
    "# 1 - Convolution\n",
    "model.add(Conv2D(128,(3,3), padding='valid', kernel_regularizer=L2(l2=0.01),\n",
    "                 kernel_initializer='he_normal', input_shape=(128,128,3)))\n",
    "model.add(BatchNormalization())\n",
    "model.add(Activation('relu'))\n",
    "model.add(MaxPooling2D(pool_size=(2,2)))\n",
    "model.add(Dropout(0.2))\n",
    "\n",
    "# 2nd Convolution layer\n",
    "model.add(Conv2D(128,(3,3), padding='valid'))\n",
    "model.add(BatchNormalization())\n",
    "model.add(Activation('relu'))\n",
    "model.add(MaxPooling2D(pool_size=(2,2)))\n",
    "model.add(Dropout(0.2))\n",
    "\n",
    "# 3rd Convolution layer\n",
    "model.add(Conv2D(224,(3,3), padding='valid'))\n",
    "model.add(BatchNormalization())\n",
    "model.add(Activation('relu'))\n",
    "model.add(MaxPooling2D(pool_size=(2, 2)))\n",
    "model.add(Dropout(0.2))\n",
    "\n",
    "# 4th Convolution layer\n",
    "model.add(Conv2D(416,(3,3), padding='valid'))\n",
    "model.add(BatchNormalization())\n",
    "model.add(Activation('relu'))\n",
    "model.add(MaxPooling2D(pool_size=(2, 2)))\n",
    "model.add(Dropout(0.2))\n",
    "\n",
    "# 5th Convolution layer\n",
    "model.add(Conv2D(512,(3,3), padding='valid'))\n",
    "model.add(BatchNormalization())\n",
    "model.add(Activation('relu'))\n",
    "model.add(MaxPooling2D(pool_size=(2, 2)))\n",
    "model.add(Dropout(0.25))\n",
    "\n",
    "# Flattening\n",
    "model.add(Flatten())\n",
    "\n",
    "# Fully connected layer 1st layer\n",
    "model.add(Dense(320))\n",
    "model.add(BatchNormalization())\n",
    "model.add(PReLU(alpha_initializer=tf.initializers.constant(0.25)))\n",
    "model.add(Dropout(0.5))\n",
    "\n",
    "# Fully connected layer 2nd layer\n",
    "model.add(Dense(192))\n",
    "model.add(BatchNormalization())\n",
    "model.add(PReLU(alpha_initializer=tf.initializers.constant(0.25)))\n",
    "model.add(Dropout(0.5))\n",
    "\n",
    "# Fully connected layer 3rd layer\n",
    "model.add(Dense(160))\n",
    "model.add(BatchNormalization())\n",
    "model.add(PReLU(alpha_initializer=tf.initializers.constant(0.25)))\n",
    "model.add(Dropout(0.5))\n",
    "\n",
    "# Fully connected layer 4th layer\n",
    "model.add(Dense(96))\n",
    "model.add(BatchNormalization())\n",
    "model.add(PReLU(alpha_initializer=tf.initializers.constant(0.25)))\n",
    "model.add(Dropout(0.5))\n",
    "\n",
    "model.add(Dense(67, activation='softmax'))\n",
    "\n",
    "epochs=50\n",
    "lr = 0.002\n",
    "nadam = Nadam(learning_rate=lr)\n",
    "\n",
    "model.compile(optimizer=nadam, loss='categorical_crossentropy', metrics=['accuracy'])\n",
    "model.summary()"
   ]
  },
  {
   "cell_type": "code",
   "execution_count": null,
   "metadata": {
    "colab": {
     "base_uri": "https://localhost:8080/"
    },
    "id": "ePnufujn1Ly-",
    "outputId": "cbe14b46-56d4-464f-dc3b-93ec8f9fef52"
   },
   "outputs": [
    {
     "name": "stdout",
     "output_type": "stream",
     "text": [
      "Epoch 1/50\n",
      "250/250 [==============================] - ETA: 0s - loss: 4.9337 - accuracy: 0.0482\n",
      "Epoch 00001: saving model to model_weights.h5\n",
      "250/250 [==============================] - 337s 998ms/step - loss: 4.9337 - accuracy: 0.0482 - val_loss: 6.4311 - val_accuracy: 0.0145 - lr: 0.0020\n",
      "Epoch 2/50\n",
      "250/250 [==============================] - ETA: 0s - loss: 3.6931 - accuracy: 0.0931\n",
      "Epoch 00002: saving model to model_weights.h5\n",
      "250/250 [==============================] - 332s 963ms/step - loss: 3.6931 - accuracy: 0.0931 - val_loss: 5.2508 - val_accuracy: 0.0261 - lr: 0.0020\n",
      "Epoch 3/50\n",
      "250/250 [==============================] - ETA: 0s - loss: 3.4425 - accuracy: 0.1278\n",
      "Epoch 00003: saving model to model_weights.h5\n",
      "250/250 [==============================] - 329s 970ms/step - loss: 3.4425 - accuracy: 0.1278 - val_loss: 4.2066 - val_accuracy: 0.0781 - lr: 0.0020\n",
      "Epoch 4/50\n",
      "250/250 [==============================] - ETA: 0s - loss: 3.2712 - accuracy: 0.1544\n",
      "Epoch 00004: saving model to model_weights.h5\n",
      "250/250 [==============================] - 332s 988ms/step - loss: 3.2712 - accuracy: 0.1544 - val_loss: 3.6192 - val_accuracy: 0.1313 - lr: 0.0020\n",
      "Epoch 5/50\n",
      "250/250 [==============================] - ETA: 0s - loss: 3.1335 - accuracy: 0.1816\n",
      "Epoch 00005: saving model to model_weights.h5\n",
      "250/250 [==============================] - 329s 1s/step - loss: 3.1335 - accuracy: 0.1816 - val_loss: 3.7583 - val_accuracy: 0.1169 - lr: 0.0020\n",
      "Epoch 6/50\n",
      "250/250 [==============================] - ETA: 0s - loss: 2.9748 - accuracy: 0.2093\n",
      "Epoch 00006: saving model to model_weights.h5\n",
      "250/250 [==============================] - 327s 979ms/step - loss: 2.9748 - accuracy: 0.2093 - val_loss: 3.3993 - val_accuracy: 0.1511 - lr: 0.0016\n",
      "Epoch 7/50\n",
      "250/250 [==============================] - ETA: 0s - loss: 2.8587 - accuracy: 0.2340\n",
      "Epoch 00007: saving model to model_weights.h5\n",
      "250/250 [==============================] - 327s 958ms/step - loss: 2.8587 - accuracy: 0.2340 - val_loss: 3.6849 - val_accuracy: 0.1471 - lr: 0.0016\n",
      "Epoch 8/50\n",
      "250/250 [==============================] - ETA: 0s - loss: 2.7036 - accuracy: 0.2645\n",
      "Epoch 00008: saving model to model_weights.h5\n",
      "250/250 [==============================] - 330s 975ms/step - loss: 2.7036 - accuracy: 0.2645 - val_loss: 2.8123 - val_accuracy: 0.2399 - lr: 0.0013\n",
      "Epoch 9/50\n",
      "250/250 [==============================] - ETA: 0s - loss: 2.5894 - accuracy: 0.2915\n",
      "Epoch 00009: saving model to model_weights.h5\n",
      "250/250 [==============================] - 331s 991ms/step - loss: 2.5894 - accuracy: 0.2915 - val_loss: 3.7204 - val_accuracy: 0.1661 - lr: 0.0013\n",
      "Epoch 10/50\n",
      "250/250 [==============================] - ETA: 0s - loss: 2.4481 - accuracy: 0.3240\n",
      "Epoch 00010: saving model to model_weights.h5\n",
      "250/250 [==============================] - 331s 981ms/step - loss: 2.4481 - accuracy: 0.3240 - val_loss: 2.6917 - val_accuracy: 0.2811 - lr: 0.0011\n",
      "Epoch 11/50\n",
      "250/250 [==============================] - ETA: 0s - loss: 2.3423 - accuracy: 0.3465\n",
      "Epoch 00011: saving model to model_weights.h5\n",
      "250/250 [==============================] - 332s 978ms/step - loss: 2.3423 - accuracy: 0.3465 - val_loss: 2.9652 - val_accuracy: 0.2515 - lr: 0.0011\n",
      "Epoch 12/50\n",
      "250/250 [==============================] - ETA: 0s - loss: 2.2200 - accuracy: 0.3747\n",
      "Epoch 00012: saving model to model_weights.h5\n",
      "250/250 [==============================] - 333s 973ms/step - loss: 2.2200 - accuracy: 0.3747 - val_loss: 2.6216 - val_accuracy: 0.3054 - lr: 8.6093e-04\n",
      "Epoch 13/50\n",
      "250/250 [==============================] - ETA: 0s - loss: 2.1269 - accuracy: 0.3989\n",
      "Epoch 00013: saving model to model_weights.h5\n",
      "250/250 [==============================] - 335s 986ms/step - loss: 2.1269 - accuracy: 0.3989 - val_loss: 2.7217 - val_accuracy: 0.2872 - lr: 8.6093e-04\n",
      "Epoch 14/50\n",
      "250/250 [==============================] - ETA: 0s - loss: 2.0158 - accuracy: 0.4272\n",
      "Epoch 00014: saving model to model_weights.h5\n",
      "250/250 [==============================] - 327s 964ms/step - loss: 2.0158 - accuracy: 0.4272 - val_loss: 2.3566 - val_accuracy: 0.3609 - lr: 6.9736e-04\n",
      "Epoch 15/50\n",
      "250/250 [==============================] - ETA: 0s - loss: 1.9286 - accuracy: 0.4480\n",
      "Epoch 00015: saving model to model_weights.h5\n",
      "250/250 [==============================] - 330s 1s/step - loss: 1.9286 - accuracy: 0.4480 - val_loss: 2.1429 - val_accuracy: 0.4039 - lr: 6.9736e-04\n",
      "Epoch 16/50\n",
      "250/250 [==============================] - ETA: 0s - loss: 1.8630 - accuracy: 0.4632\n",
      "Epoch 00016: saving model to model_weights.h5\n",
      "250/250 [==============================] - 333s 989ms/step - loss: 1.8630 - accuracy: 0.4632 - val_loss: 2.5861 - val_accuracy: 0.3407 - lr: 6.9736e-04\n",
      "Epoch 17/50\n",
      "250/250 [==============================] - ETA: 0s - loss: 1.7674 - accuracy: 0.4889\n",
      "Epoch 00017: saving model to model_weights.h5\n",
      "250/250 [==============================] - 331s 963ms/step - loss: 1.7674 - accuracy: 0.4889 - val_loss: 1.8327 - val_accuracy: 0.4838 - lr: 5.6486e-04\n",
      "Epoch 18/50\n",
      "250/250 [==============================] - ETA: 0s - loss: 1.7058 - accuracy: 0.5064\n",
      "Epoch 00018: saving model to model_weights.h5\n",
      "250/250 [==============================] - 330s 958ms/step - loss: 1.7058 - accuracy: 0.5064 - val_loss: 1.7991 - val_accuracy: 0.4991 - lr: 5.6486e-04\n",
      "Epoch 19/50\n",
      "250/250 [==============================] - ETA: 0s - loss: 1.6380 - accuracy: 0.5221\n",
      "Epoch 00019: saving model to model_weights.h5\n",
      "250/250 [==============================] - 334s 980ms/step - loss: 1.6380 - accuracy: 0.5221 - val_loss: 1.8815 - val_accuracy: 0.4797 - lr: 5.6486e-04\n",
      "Epoch 20/50\n",
      "250/250 [==============================] - ETA: 0s - loss: 1.5671 - accuracy: 0.5418\n",
      "Epoch 00020: saving model to model_weights.h5\n",
      "250/250 [==============================] - 332s 973ms/step - loss: 1.5671 - accuracy: 0.5418 - val_loss: 1.6291 - val_accuracy: 0.5425 - lr: 4.5754e-04\n",
      "Epoch 21/50\n",
      "250/250 [==============================] - ETA: 0s - loss: 1.5209 - accuracy: 0.5564\n",
      "Epoch 00021: saving model to model_weights.h5\n",
      "250/250 [==============================] - 333s 991ms/step - loss: 1.5209 - accuracy: 0.5564 - val_loss: 1.6476 - val_accuracy: 0.5365 - lr: 4.5754e-04\n",
      "Epoch 22/50\n",
      "250/250 [==============================] - ETA: 0s - loss: 1.4581 - accuracy: 0.5717\n",
      "Epoch 00022: saving model to model_weights.h5\n",
      "250/250 [==============================] - 331s 967ms/step - loss: 1.4581 - accuracy: 0.5717 - val_loss: 1.6994 - val_accuracy: 0.5283 - lr: 3.7060e-04\n",
      "Epoch 23/50\n",
      "250/250 [==============================] - ETA: 0s - loss: 1.3994 - accuracy: 0.5848\n",
      "Epoch 00023: saving model to model_weights.h5\n",
      "250/250 [==============================] - 328s 1s/step - loss: 1.3994 - accuracy: 0.5848 - val_loss: 1.4600 - val_accuracy: 0.5909 - lr: 3.0019e-04\n",
      "Epoch 24/50\n",
      "250/250 [==============================] - ETA: 0s - loss: 1.3722 - accuracy: 0.5950\n",
      "Epoch 00024: saving model to model_weights.h5\n",
      "250/250 [==============================] - 329s 969ms/step - loss: 1.3722 - accuracy: 0.5950 - val_loss: 1.3891 - val_accuracy: 0.6100 - lr: 3.0019e-04\n",
      "Epoch 25/50\n",
      "250/250 [==============================] - ETA: 0s - loss: 1.3371 - accuracy: 0.6016\n",
      "Epoch 00025: saving model to model_weights.h5\n",
      "250/250 [==============================] - 330s 981ms/step - loss: 1.3371 - accuracy: 0.6016 - val_loss: 1.3547 - val_accuracy: 0.6207 - lr: 3.0019e-04\n",
      "Epoch 26/50\n",
      "250/250 [==============================] - ETA: 0s - loss: 1.3077 - accuracy: 0.6118\n",
      "Epoch 00026: saving model to model_weights.h5\n",
      "250/250 [==============================] - 331s 981ms/step - loss: 1.3077 - accuracy: 0.6118 - val_loss: 1.6819 - val_accuracy: 0.5380 - lr: 3.0019e-04\n",
      "Epoch 27/50\n",
      "250/250 [==============================] - ETA: 0s - loss: 1.2733 - accuracy: 0.6181\n",
      "Epoch 00027: saving model to model_weights.h5\n",
      "250/250 [==============================] - 330s 972ms/step - loss: 1.2733 - accuracy: 0.6181 - val_loss: 1.2600 - val_accuracy: 0.6502 - lr: 2.4315e-04\n",
      "Epoch 28/50\n",
      "250/250 [==============================] - ETA: 0s - loss: 1.2483 - accuracy: 0.6285\n",
      "Epoch 00028: saving model to model_weights.h5\n",
      "250/250 [==============================] - 330s 984ms/step - loss: 1.2483 - accuracy: 0.6285 - val_loss: 1.3004 - val_accuracy: 0.6342 - lr: 2.4315e-04\n",
      "Epoch 29/50\n",
      "250/250 [==============================] - ETA: 0s - loss: 1.2263 - accuracy: 0.6332\n",
      "Epoch 00029: saving model to model_weights.h5\n",
      "250/250 [==============================] - 332s 971ms/step - loss: 1.2263 - accuracy: 0.6332 - val_loss: 1.1882 - val_accuracy: 0.6691 - lr: 1.9695e-04\n",
      "Epoch 30/50\n",
      "250/250 [==============================] - ETA: 0s - loss: 1.1970 - accuracy: 0.6401\n",
      "Epoch 00030: saving model to model_weights.h5\n",
      "250/250 [==============================] - 330s 969ms/step - loss: 1.1970 - accuracy: 0.6401 - val_loss: 1.3657 - val_accuracy: 0.6219 - lr: 1.9695e-04\n",
      "Epoch 31/50\n",
      "250/250 [==============================] - ETA: 0s - loss: 1.1756 - accuracy: 0.6479\n",
      "Epoch 00031: saving model to model_weights.h5\n",
      "250/250 [==============================] - 332s 982ms/step - loss: 1.1756 - accuracy: 0.6479 - val_loss: 1.3630 - val_accuracy: 0.6250 - lr: 1.5953e-04\n",
      "Epoch 32/50\n",
      "250/250 [==============================] - ETA: 0s - loss: 1.1469 - accuracy: 0.6555\n",
      "Epoch 00032: saving model to model_weights.h5\n",
      "250/250 [==============================] - 332s 974ms/step - loss: 1.1469 - accuracy: 0.6555 - val_loss: 1.1564 - val_accuracy: 0.6801 - lr: 1.2922e-04\n",
      "Epoch 33/50\n",
      "250/250 [==============================] - ETA: 0s - loss: 1.1335 - accuracy: 0.6608\n",
      "Epoch 00033: saving model to model_weights.h5\n",
      "250/250 [==============================] - 330s 969ms/step - loss: 1.1335 - accuracy: 0.6608 - val_loss: 1.0965 - val_accuracy: 0.6981 - lr: 1.2922e-04\n",
      "Epoch 34/50\n",
      "250/250 [==============================] - ETA: 0s - loss: 1.1291 - accuracy: 0.6587\n",
      "Epoch 00034: saving model to model_weights.h5\n",
      "250/250 [==============================] - 326s 1s/step - loss: 1.1291 - accuracy: 0.6587 - val_loss: 1.3425 - val_accuracy: 0.6315 - lr: 1.2922e-04\n",
      "Epoch 35/50\n",
      "250/250 [==============================] - ETA: 0s - loss: 1.1115 - accuracy: 0.6649\n",
      "Epoch 00035: saving model to model_weights.h5\n",
      "250/250 [==============================] - 330s 1s/step - loss: 1.1115 - accuracy: 0.6649 - val_loss: 1.1280 - val_accuracy: 0.6888 - lr: 1.0467e-04\n",
      "Epoch 36/50\n",
      "250/250 [==============================] - ETA: 0s - loss: 1.1032 - accuracy: 0.6653\n",
      "Epoch 00036: saving model to model_weights.h5\n",
      "250/250 [==============================] - 330s 978ms/step - loss: 1.1032 - accuracy: 0.6653 - val_loss: 1.0637 - val_accuracy: 0.7077 - lr: 1.0000e-04\n",
      "Epoch 37/50\n",
      "250/250 [==============================] - ETA: 0s - loss: 1.0971 - accuracy: 0.6720\n",
      "Epoch 00037: saving model to model_weights.h5\n",
      "250/250 [==============================] - 328s 1s/step - loss: 1.0971 - accuracy: 0.6720 - val_loss: 1.0479 - val_accuracy: 0.7128 - lr: 1.0000e-04\n",
      "Epoch 38/50\n",
      "250/250 [==============================] - ETA: 0s - loss: 1.0786 - accuracy: 0.6732\n",
      "Epoch 00038: saving model to model_weights.h5\n",
      "250/250 [==============================] - 329s 969ms/step - loss: 1.0786 - accuracy: 0.6732 - val_loss: 1.1345 - val_accuracy: 0.6863 - lr: 1.0000e-04\n",
      "Epoch 39/50\n",
      "250/250 [==============================] - ETA: 0s - loss: 1.0749 - accuracy: 0.6761\n",
      "Epoch 00039: saving model to model_weights.h5\n",
      "250/250 [==============================] - 332s 982ms/step - loss: 1.0749 - accuracy: 0.6761 - val_loss: 1.2770 - val_accuracy: 0.6476 - lr: 1.0000e-04\n",
      "Epoch 40/50\n",
      "250/250 [==============================] - ETA: 0s - loss: 1.0691 - accuracy: 0.6743\n",
      "Epoch 00040: saving model to model_weights.h5\n",
      "250/250 [==============================] - 330s 962ms/step - loss: 1.0691 - accuracy: 0.6743 - val_loss: 1.0930 - val_accuracy: 0.6976 - lr: 1.0000e-04\n"
     ]
    }
   ],
   "source": [
    "steps_per_epoch = train_gen.n//train_gen.batch_size\n",
    "validation_steps = val_gen.n//val_gen.batch_size\n",
    "\n",
    "\"\"\"def exp_decay(epoch, lr):\n",
    "  #lrate = lr * np.exp(-decay*epoch)\n",
    "  #lrate = lr * 1/1+(decay*epoch)\n",
    "  if epoch%2 == 0:\n",
    "    v = epoch/2\n",
    "    lrate = (0.85**v) * lr\n",
    "  else:\n",
    "    lrate = lr\n",
    "  lrate = max(lrate, 0.00001)\n",
    "  return lrate\n",
    "\n",
    "lr_rate = LearningRateScheduler(exp_decay)\"\"\"\n",
    "\n",
    "es = EarlyStopping(monitor='val_loss', patience=3, mode='min')\n",
    "\n",
    "reduce_lr = ReduceLROnPlateau(monitor='val_loss', factor=0.81, patience=1, min_lr=0.0001, mode='auto')\n",
    "checkpoint = ModelCheckpoint(\"model_weights.h5\", monitor='val_accuracy',save_weights_only=True, mode='max', verbose=1)\n",
    "\n",
    "callbacks = [checkpoint, es, reduce_lr]\n",
    "\n",
    "history = model.fit(x=train_gen, steps_per_epoch=steps_per_epoch, epochs=epochs, validation_data = val_gen,\n",
    "                    validation_steps = validation_steps, callbacks=callbacks, max_queue_size = 80, use_multiprocessing=True, workers=80)"
   ]
  },
  {
   "cell_type": "code",
   "execution_count": null,
   "metadata": {
    "colab": {
     "base_uri": "https://localhost:8080/",
     "height": 545
    },
    "id": "h10TzLqXS-k2",
    "outputId": "92e0616e-edcf-4c5f-f834-130557d10785"
   },
   "outputs": [
    {
     "data": {
      "image/png": "[encoded data removed]",
      "text/plain": [
       "<Figure size 432x288 with 1 Axes>"
      ]
     },
     "metadata": {
      "needs_background": "light"
     },
     "output_type": "display_data"
    },
    {
     "data": {
      "image/png": "[encoded data removed]",
      "text/plain": [
       "<Figure size 432x288 with 1 Axes>"
      ]
     },
     "metadata": {
      "needs_background": "light"
     },
     "output_type": "display_data"
    }
   ],
   "source": [
    "from matplotlib import pyplot\n",
    "pyplot.plot(history.history['accuracy'], label='train')\n",
    "pyplot.plot(history.history['val_accuracy'], label='test')\n",
    "pyplot.title(\"Accuracy\")\n",
    "pyplot.legend()\n",
    "pyplot.show()\n",
    "pyplot.plot(history.history['loss'], label='train')\n",
    "pyplot.plot(history.history['val_loss'], label='test')\n",
    "pyplot.title(\"Loss\")\n",
    "pyplot.legend()\n",
    "pyplot.show()"
   ]
  },
  {
   "cell_type": "code",
   "execution_count": null,
   "metadata": {
    "id": "tvvXcTzUJTJ9"
   },
   "outputs": [],
   "source": [
    "### Reserve function to check for any corrupted images if any error occurs while loading or opening\n",
    "from PIL import Image\n",
    "folder_path = 'data\\img'\n",
    "extensions = []\n",
    "for fldr in os.listdir(path1):\n",
    "    sub_folder_path = os.path.join(path1, fldr)\n",
    "    for filee in os.listdir(sub_folder_path):\n",
    "        file_path = os.path.join(sub_folder_path, filee)\n",
    "        print('** Path: {}  **'.format(file_path), end=\"\\r\", flush=True)\n",
    "        im = Image.open(file_path)\n",
    "        gb_im = im.convert('RGB')\n",
    "        if filee.split('.')[1] not in extensions:\n",
    "            extensions.append(filee.split('.')[1])"
   ]
  }
 ],
 "metadata": {
  "accelerator": "GPU",
  "colab": {
   "machine_shape": "hm",
   "name": "[]6976wViz.ipynb",
   "provenance": []
  },
  "kernelspec": {
   "display_name": "Python 3 (ipykernel)",
   "language": "python",
   "name": "python3"
  },
  "language_info": {
   "codemirror_mode": {
    "name": "ipython",
    "version": 3
   },
   "file_extension": ".py",
   "mimetype": "text/x-python",
   "name": "python",
   "nbconvert_exporter": "python",
   "pygments_lexer": "ipython3",
   "version": "3.8.5"
  }
 },
 "nbformat": 4,
 "nbformat_minor": 1
}
